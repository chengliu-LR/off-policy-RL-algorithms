{
 "cells": [
  {
   "cell_type": "markdown",
   "metadata": {},
   "source": [
    "### Tensor Manipulations"
   ]
  },
  {
   "cell_type": "code",
   "execution_count": 1,
   "metadata": {},
   "outputs": [],
   "source": [
    "from collections import namedtuple\n",
    "import torch\n",
    "import torch.nn as nn\n",
    "import random\n",
    "import cv2\n",
    "import gym\n",
    "import numpy as np\n",
    "import matplotlib.pyplot as plt\n",
    "from skimage import color\n",
    "import skimage.transform as transforms"
   ]
  },
  {
   "cell_type": "code",
   "execution_count": 2,
   "metadata": {
    "tags": []
   },
   "outputs": [
    {
     "output_type": "stream",
     "name": "stdout",
     "text": "[(1, 5), (2, 6), (3, 7), (4, 8)]\nTransition(state=(1, 5), action=(2, 6), next_state=(3, 7), reward=(4, 8))\n"
    }
   ],
   "source": [
    "Transition = namedtuple('Transition', \n",
    "                        ('state', 'action', 'next_state', 'reward'))\n",
    "transitions = [Transition(1,2,3,4),Transition(5,6,7,8)]\n",
    "print(list(zip(*transitions)))\n",
    "a=Transition(*zip(*transitions))\n",
    "print(a)"
   ]
  },
  {
   "cell_type": "code",
   "execution_count": 3,
   "metadata": {
    "tags": []
   },
   "outputs": [
    {
     "output_type": "stream",
     "name": "stdout",
     "text": "Transition(state=1, action=2, next_state=3, reward=4)\n"
    }
   ],
   "source": [
    "print(Transition(*[1,2,3,4]))\n",
    "#print(Transition([1,2,3,4]))"
   ]
  },
  {
   "cell_type": "code",
   "execution_count": 4,
   "metadata": {},
   "outputs": [],
   "source": [
    "class ReplayMemory():\n",
    "    def __init__(self, capacity):\n",
    "        self.capacity = capacity\n",
    "        self.memory = []\n",
    "        self.position = 0\n",
    "    \n",
    "    def push(self, *args):\n",
    "        \"\"\"save as a transition\"\"\"\n",
    "        if len(self.memory) < self.capacity:\n",
    "            self.memory.append(None)\n",
    "\n",
    "        self.memory[self.position] = Transition(*args)\n",
    "        self.position = (self.position + 1) % self.capacity\n",
    "\n",
    "    def sample(self, batch_size):\n",
    "        return random.sample(self.memory, batch_size)\n",
    "\n",
    "    def __len__(self):\n",
    "        return len(self.memory)"
   ]
  },
  {
   "cell_type": "code",
   "execution_count": 5,
   "metadata": {
    "tags": []
   },
   "outputs": [
    {
     "output_type": "stream",
     "name": "stdout",
     "text": "(tensor([[57]]), tensor([[51]]), tensor([[97]]))\ntensor([[57],\n        [51],\n        [97]])\n"
    }
   ],
   "source": [
    "memory = ReplayMemory(100)\n",
    "for i in range(100):\n",
    "    memory.push(torch.tensor([[i]]),torch.tensor([[i]]),torch.tensor([[i]]),torch.tensor([[i]]))\n",
    "transitions = memory.sample(3)\n",
    "batch = Transition(*zip(*transitions))\n",
    "#print(batch)\n",
    "state_batch = torch.cat(batch.state)\n",
    "print(batch.state)\n",
    "print(state_batch)"
   ]
  },
  {
   "cell_type": "code",
   "execution_count": 6,
   "metadata": {
    "tags": []
   },
   "outputs": [
    {
     "output_type": "stream",
     "name": "stdout",
     "text": "[Transition(state=tensor([[99]]), action=tensor([[99]]), next_state=None, reward=tensor([[99]]))]\n"
    }
   ],
   "source": [
    "memory = ReplayMemory(100)\n",
    "memory.push(torch.tensor([[i]]),torch.tensor([[i]]), None, torch.tensor([[i]]))\n",
    "print(memory.memory)"
   ]
  },
  {
   "cell_type": "code",
   "execution_count": 7,
   "metadata": {
    "tags": []
   },
   "outputs": [
    {
     "output_type": "stream",
     "name": "stdout",
     "text": "(tensor([[57]]), tensor([[51]]), tensor([[97]]))\ntensor([[57],\n        [51],\n        [97]])\n"
    }
   ],
   "source": [
    "print(batch.next_state)\n",
    "non_terminal = torch.cat([s for s in batch.next_state if s is not None])\n",
    "print(non_terminal)"
   ]
  },
  {
   "cell_type": "code",
   "execution_count": 8,
   "metadata": {
    "tags": []
   },
   "outputs": [
    {
     "output_type": "stream",
     "name": "stdout",
     "text": "tensor([True, True, True])\n"
    }
   ],
   "source": [
    "non_terminal_mask = torch.tensor(tuple(map(lambda s: s.item() is not 12,\n",
    "                                        batch.next_state)), device='cpu', \n",
    "                                        dtype=torch.bool)\n",
    "print(non_terminal_mask)"
   ]
  },
  {
   "cell_type": "code",
   "execution_count": 9,
   "metadata": {},
   "outputs": [
    {
     "output_type": "execute_result",
     "data": {
      "text/plain": "tensor([[57],\n        [51],\n        [97]])"
     },
     "metadata": {},
     "execution_count": 9
    }
   ],
   "source": [
    "non_terminal[non_terminal_mask]"
   ]
  },
  {
   "cell_type": "code",
   "execution_count": 10,
   "metadata": {},
   "outputs": [],
   "source": [
    "# c = torch.zeros((3,1))\n",
    "# c[[False, True, True]] = b\n",
    "# print(c)\n",
    "# c = torch.zeros((3,1))\n",
    "# c[non_terminal_mask] = b    #to show non_termial_mask is a list of bool numbers\n",
    "# print(c)"
   ]
  },
  {
   "cell_type": "code",
   "execution_count": 11,
   "metadata": {
    "tags": []
   },
   "outputs": [
    {
     "output_type": "stream",
     "name": "stdout",
     "text": "tensor([[[-1.7181, -0.6962],\n         [ 0.2353, -1.2120]],\n\n        [[ 0.5682,  1.1439],\n         [ 0.1395,  1.2377]]])\ntensor([[0.5682, 1.1439],\n        [0.2353, 1.2377]])\n"
    }
   ],
   "source": [
    "a = torch.randn(1,2,2)\n",
    "b = torch.randn(1,2,2)\n",
    "c = torch.cat((a,b))\n",
    "print(c)\n",
    "d, _ = c.max(dim=0)\n",
    "print(d)"
   ]
  },
  {
   "cell_type": "code",
   "execution_count": 12,
   "metadata": {
    "tags": []
   },
   "outputs": [
    {
     "output_type": "stream",
     "name": "stdout",
     "text": "torch.float32 0.0 False\n"
    },
    {
     "output_type": "execute_result",
     "data": {
      "text/plain": "<matplotlib.image.AxesImage at 0x1430ec6d8>"
     },
     "metadata": {},
     "execution_count": 12
    },
    {
     "output_type": "display_data",
     "data": {
      "text/plain": "<Figure size 432x288 with 1 Axes>",
      "image/svg+xml": "<?xml version=\"1.0\" encoding=\"utf-8\" standalone=\"no\"?>\n<!DOCTYPE svg PUBLIC \"-//W3C//DTD SVG 1.1//EN\"\n  \"http://www.w3.org/Graphics/SVG/1.1/DTD/svg11.dtd\">\n<!-- Created with matplotlib (https://matplotlib.org/) -->\n<svg height=\"251.023058pt\" version=\"1.1\" viewBox=\"0 0 251.565 251.023058\" width=\"251.565pt\" xmlns=\"http://www.w3.org/2000/svg\" xmlns:xlink=\"http://www.w3.org/1999/xlink\">\n <defs>\n  <style type=\"text/css\">\n*{stroke-linecap:butt;stroke-linejoin:round;white-space:pre;}\n  </style>\n </defs>\n <g id=\"figure_1\">\n  <g id=\"patch_1\">\n   <path d=\"M 0 251.023058 \nL 251.565 251.023058 \nL 251.565 0 \nL 0 0 \nz\n\" style=\"fill:none;\"/>\n  </g>\n  <g id=\"axes_1\">\n   <g id=\"patch_2\">\n    <path d=\"M 26.925 227.144933 \nL 244.365 227.144933 \nL 244.365 9.704933 \nL 26.925 9.704933 \nz\n\" style=\"fill:#ffffff;\"/>\n   </g>\n   <g clip-path=\"url(#p1120afadc8)\">\n    <image height=\"218\" id=\"imagee5f0d06a0f\" transform=\"scale(1 -1)translate(0 -218)\" width=\"218\" x=\"26.925\" xlink:href=\"data:image/png;base64,\niVBORw0KGgoAAAANSUhEUgAAANoAAADaCAYAAADAHVzbAAAABHNCSVQICAgIfAhkiAAAG4dJREFUeJztnXmcXFWVx0+9V9VL9ZpOb0knnXTSHbIRMCQhxIwGZBVkUcgoIDqo6DBxGCCjfEYRRSfOfEZZBGdGdAQBRVAMIiASBpUhi2EzYcmedDok3Uk6Se9b1auaP85799xQayddt5Ku3/cfbm69d+v0u9x3Tt17Fl/jE3dGCQCQUaxsCwBALoCFBoABsNAAMAAWGgAGwEIDwABYaAAYAAsNAAP4sy1Auvh8fNw3pqRP9fUM5BMR0dDQSfNngCRYlhzpnlG3R7Xf2DeBiIgc5+TVCyev5ACcRPgjKd4SniY5qs/KnjPJnLH7VHvjofFERHQYGm1UYFkR1b5n4rOqffb+LxARNBoAIAVYaAAYwN90R1daF+67qFa1O2eHtBEMmZGuCbuhvU51ORF+T9i2mBzRqI+IiEIhW64blDa5n48WPDM+WDogfXHM/VT09/HGkjOkvXsNP6uQNo/3HFqo2r3dBSxO+OTVCyev5ACcRGChAWAA37m+K4dtZ1jBoPzDZrPM5zNjZvhKilW77Il+IiKaHDyk+kJRlueFR85SfXX/87YR2bJCXoCIiCp/J+Z8TX53zGUBn6Pan61YS0REVZbM2Tn/tpyIiMY9MoqfVRaBRgPAAMd0ABXp60t9UYbwDQ6q9qur5xIRUdMFL6u+3zfPJCKiyo1yndOV3obPSYnFGvytR85UXRvykt+yZNkmIiKaFhQtaIXYsBnVzyqLQKMBYAAsNAAMcNL5LkU107HqDTZ3QufJOVnHgRIiIqr585tyjyHZAEgENBoABjjpNJpO2dMbiYjo6aWnqr6Jz/CWdTQczopMpvG5xys1V+5WfeOCyTc0bB97YPxVsw7soQwIBxTQaAAYAAsNAAMck2fIiYbuqZLNM75sYldVqbbPTu/9GY3K1Ec6OrlPMyfByAGNBoABsNAAMMBJvevokavmoo5z8GC2RQBJgEYDwABYaAAYAAsNAANgoQFggFGxGZIKu7RUtePFW3mfnyixWOnKm+hzY7ixcFaRdo7ZHRvdfcLIm0Wg0QAwwKjVaL78fNVufWS8alf/6yQiIrIGxem47dvsZFv7ObknG9vlVgmH+LQ9Ok71Vd8xkRu25PdovV1kr/0Ut7NxxBFdOJuIiLYtE9maVkjaO6eEn+fer4rH8rgrWc5ccfr2gEYDwABYaAAYYPSajlr6u7qyTtUuvXsg5tqxbmbfI3Z+zGcm8ZyBGyvaVZ///kjMdUFHpq3fUJq/eEQDLO+ihh2qL/wjO+Y630CRMZlOVKDRADAAFhoABhi1puNRsVZasQa/xRl7Az4xyQYj/ph7skIk9vvz7djdub5wisSNpoi1aqnQllyRoajlXibPP9awzA2g0QAwwOjVaFqkcOuTk1W78prY3PLbOyqJiKjs4K6My5UMx/WqeHXrGapvycwtMde9u3qKajf0rcu8YAkIbOBNkPYBqYcwrjDW82Pgh3KOGQzvifk8F4BGA8AAWGgAGGDUmo46BYfi/GrXGAy5jyHiJL0u47ibMb7+5FsGeV3a2VkWN3Ccnl5uREqTXhd8DxHw0GgAGCAnNFq8ks7e1vMJiSavE6+O9AmWIFDfvo/3XPXnf4KJbowT+P82AEYPWGgAGCAnTMfyNyS2zDvzCfolRqrokTLjMiVj8tOyKdMzhx2dw1HZIKn7Y2wUc1ZwN48OPz5BdY25TjY+uoYKiIjIam5TfVnebsoa0GgAGAALDQADjIoiF8PBntHEDS2Oy9m0jRvZdir20GRT8mqyOZu3y7UngMx62gircbJ8EOHzS/V8cxhoNAAMkHMaDYBsAI0GgAGw0AAwABYaAAbAQgPAAFhoABgACw0AA2ChAWAALDQADICFBoABsNAAMAAWGgAGwEIDwABYaAAYAAsNAANgoQFgACw0AAyAhQaAAbDQADAAFhoABsBCA8AAWGgAGAALDQADZCX3vjV7OhERRbdJzejQB2ezQC+9PuzxfH75M3yzp/F/B0NyQesB1XQ6Ooc9/uDF84mIqODFjfI907mOdGTDpmGPZwWDMo4m++A8TpYaWC11tvVa3EnRkq72X8ryFr34jnxnudQXCO/dNzyBaeTnLNeARgPAAFhoABggK6bj4bljiIiowhZzJ+p32wvnyIXrNlI66LnfWy4qJyKiSQ9sVn3bvzJTtRu+vp4bw6hXvftjLNvM18tVX/NH+W+Y3D1Z9YV3Nqc1nlVaotq9c+tVu+gdLm/UvnSu6it/dB03UuTY99lS1mnvVWw2Nz0fVn3bvlel2lNv4LJPke70yz+N9JzlGtBoABgACw0AA2SlyIVdOZaIiLbeK2bTKbfyTlj7eVNU39h1+1Xb2bYzrbG337WQiIim39eq+iKlssu3+Ytstk27cX368jY2EBHRgbNrVV/NM7z7tu3LDaqv6QciY7hNZI9B2yEcv7ZYtQ9cUURERAMz61RfV30eERFVPLg2bXn7L1tARETFW4/IV3ZLJc7me9kErr9mh+qLDAwkHTOTc5YLQKMBYICsbIYcuojPuqaN3636PvIiF6v7yeNTVV/oqoBqV12aeDyrqEi1L/4Qn+k8M/ZU1VdZKT/6PzfxZSIiWlNarfqcrq6k8m66lTcSfE5E9V1901YiItrxrmwyNF8vsk9YkVij2dVyz+Iy2Tx4ZSWfo/3fK/J3zztrCxERdfxCNnzina3p53H5/8javOWFiarv+k8/r9qdTiEREa2ZN1/1Wa/8NaG8RCM/Z7kGNBoABsBCA8AA2an46W4G2E3yI3rT8goiIprxtWbVFzkiP+ajYTkTSoZ/4gQiIjqyaILq662V90ndc3xWNZwf6p5ZZtfWqL53vzGeiIhmflfcu8K735Ob0jyn81ybiIh2XMNnVZOe7Vd9gS17Wd6DB9OW1yrhDR+rQs793v2abORM/4F7jvb2ZkqbDM5ZLgCNBoABUMMaAANAowFgACw0AAyAhQaAAbDQADAAFhoABsiKC5Z3JuObK3FiVg+7FUWKxdXIF5KzqMjG9M58/JPY7cipKFV9dmu7ajt1lUREFH1TGy/VmZdlu/LOkDHf43MtZ4K4U9kHJU1CePeetOS1TpMx1XPpHxLRgvw8on99V65LEZvmuaRFZ4jDs+/t7XL77Ebu2yLuVClj0zI4Z7kANBoABshOch43InrXV2WdN9zJohTfI864vf9QOeyxt32JPUJ074qDl4o3w5it/Ba2KX3sMtaOe84WLTlxZS9/37US5jL97uEn/qn6772qfeDLHIKy804J65l897CHpPBcdgCO5MnzLXDDXIiIjjSyzGVb0h8zk3OWC0CjAWAALDQADJAd07GWY8GCBfKjf/OtbM5cXCB5A7fbNZQWWsRyaCw7srYtFPOr+kJx9o2ukM2LdHFOcTdYCqRvyzfZYTfSLTFquhxJxdVix6ryelR7tWuGXt4o0d9vWRxXl97ITEcjC5rXK5sme74npmPFM5646Y864nOWY0CjAWCArGi0vR/jDYuH59yl+u5tO5eIiFY/dIbqO+cn61T77Xnu2zfO1rZVLBsS/77kCSIiqjtXwjWWf+1G1f78D58iIqInF8m2uqOFdsSj7TZO3/bL00Xey5+9iYiIfMWSEXnzTeNVu/HmloTj2TUS3f23Fb9V7QsueYuIiO64/XOq76oHXiAiolXz5J54+T18gTzVXnor33NekRwJfPEb/6Ta5y5/hYiIVrcvVH15z7+aUF6ikZ+zXAMaDQADYKEBYICsxKN5ngs7bpcMtx9cwoUdXmuVhDL1yzpUO93CDIMf5YQz9bfLIVFrnxR46H2AU7mVPL6O0sUz9XbdLz/0Tx3H8rz2epPqm/5N+c6k5qi2CdH+BTHfTr+eTccdXXIWlfdNlt23ZkP68s7kc7TSH4tHTE9Iy+b8O/YYGX+/FKdIVUwjk3OWC0CjAWAALDQADHDipDKId6ZzPLtVic6IRmoHzJeBHbWT9RlkYuxRBjQaAAbITphMPEb6TZjpN2smxsczGLVAowFgACw0AAyQFdPRq9CZ6uzG1gqcp1vk3Spgh9pEZYg8V6VoaCju53HHdDP/popC1ovAR/r6El+obyL4tHddnEhv7/wq0tubhqSMXcpxcwmLd3jR0lqV0FRZhTM5Z7kANBoABshOmMzUSUREtPd88YCovWcNER2d273zA+JIW/xEYk8OPeyk5Wau/1x/r5Qhiobkbb3rDnaAbfiW5hWRQrv1L+b8+P5+0Tj2n94gIqKuT4lnR8luiepO5slhaTW3t644XbUbl7Njr1UkmrH17zhMpub+v8gA8XKcaFry4JWziIioaqXk7NA9VZq/wzI3/qfkDEnlxTHSc5ZrQKMBYAAsNAAMkBXT0dnElSLtD0vUr30Kp0Db+e1C1Tfpk8ljpDz0H/KTnuREMc03i0lWtE/OexpW8gbBcDZD8v/AZuK2++apvumtLG/HNHlXlf5yI6WDvlEzZaVsLoTOYZmbr5BpmbGimYiIwqlS4mlnWlW/foeIiPb8TEpXTbxNnnX16xwVPhyn35Ges1wDGg0AA2ChAWCArJiO/vHjiIio+PI21Tf5ei5wXhmWkPy2hbNVO2k8lrbj1nIFx4zdcPVzqi8UlfOiHz9zPhERNbypZXZMYZZZc04hIqJPL35F+hazqXZEM0vtRskMnKyiqL5Luv06aV90OsejzfeLafnSBWcREVHFg60yQArXp56zeZf0P079merb+9QY1f7umxcSEdG0l9I/8xrxOcsxoNEAMEBWnYr7QwHVdqKslfb3lSa6PC187sv+wJCME7A0jXUcfrD7BqQm9PgCjiTuG5S3+RhK7jWRikGHp6PfKZHO45B38+A41Q5asvkTdYaTvO5oMjFnuQA0GgAGwEIDwABZjbD2aa5IVombm9GRzL+p8i0mw9aKOug47YeOfcxSzUTKYxMq2iduV0kdiROhbeTYYytiPj4ueRM9g8NuAp1UZ3NxyOScjWag0QAwwImTMwSAUQw0GgAGwEIDwAAnTnKeeOiRyOkmgkmVBu5Y0sRlIrXc+8dONH4m5M3m35OjQKMBYAAsNAAMkBXTMfpBjrvaP09C9ic8yWH1hz8kBRN6a+U9MO6uNQnH02uDvXcLx4yNWyPnW3aPuB/tuZAdaevvfkP1JUrk43H4swtj+qpXcf2z1kvqVV9xq5xLFf52fcw9Hl6yHyKilmWnqrYXS9c/Rc7T2ufweV3dXTJe3EQ6ljhJ77v1TCIiKtsp8pT9RaqetlzNaQkmrhQH4WRO0EQjP2e5BjQaAAbI6jmanpps0cv8Nl/zca0S5/ZdMfekxP0x3nL7WaprYLJotGmff5Mbx+AV4Z8oEctnPbudiIjWnCcazdl/YNhj6poosoorhnY9JN9T/qib4OZYNhYWSomlv3lANOLqBW797RSaPB4ZmbMcABoNAANgoQFggOzkdTx9JhERtVwo8V3n2/zDes/lEkNVcKhWtSseXJtwPD1iuXXZAiIiGmqSzZDaSsnYu+8W3iiou/c11ZcqUU/fx/mejqli5p1nc7XLPZ9pVH3Vr8mmgP8lyRv5fvSMxi03SRKhhUWc3OdPc+tU31Apm8DV/5V+Xsf2G3jzZmCs9BXbYiZ6uS8n/2KP6gvvlnZcmUd4znINaDQADJAVjda2mN+KE14UTbPq55xronShvK1P+4rknNjxUGJvBl1DOJx6nxp+Km9zf498bjVwSIdVWiz3HDqcVN4j1/YQEVHlT2ScVReyvLVTRHPuulRCSKa+lHg8q0Lyd9Q/J2ElrU+xZpgwVcJOWi7hdm2BjB0vHMfnl8jnvMt5Uyb/oaoYeYmIJgX5877pUpM7L4VGG+k5yzWg0QAwABYaAAbIyjmaXcOFEJwDB6Uznkk4Z7pqRzZujvlcoW0E+N2xw23743+3ew7kdPVIZ4ozNXvaVL5n647k310v51/JNhf0zRvSSyfFKYnkn1wfO14KU8ye0cTyutmFY3DP7vRiGqlKUo34nOUY0GgAGAALDQADIJUBAAaARgPAAFhoABgACw0AA2ChAWCArLhgDX50PhER+RzZhylcu5WIiHb88yzV5xTK51OXJy48bhUUqHbnZeykGxGPJCpqDam2L8JjBtZvUX2R3t6k8u69bREREWl+uVT3U3YqPnzpTJE3IGdqyRxqj8pIXKm1Lb7/vYvEdcp2j9ZqHkjhBK3FtbV8nZ2gnaA8v8YV78j9kznuTT8DjGzYlFBeopGfs1wDGg0AA2RFo3VMZXVT1iy5L1qvYwfVSL68ES87W6KC306SIs2XJzlDOpr43eEUyHVdk8Qht7SZnXQrNCddSqHR7IXs+OusE2dgT167X77nyGxpx2bR1+QtlJrP4TJp7/sQ5xLpr5FxnHJ+RrUBmap4Gs2neZjULOba1C1bxWnYk5eIqHo9e4EMVYglkJeiZuBIz1muAY0GgAGw0AAwQFYzFXfXibnT2eTGYPmOz8wYrOBxIoUS0+WLaKWRhvg7k5l2iQiViGx947gd3Ke/q4Yve2dTkWr3TmLn5mhAxgkUJ4/+jkcwMOSOI8+gs0meQcHhIve/w09QlIk5ywWg0QAwABYaAAbIiulY9zTHVtkPy/nWiro/EhHRsr9crfo2LJfENXZUMgu/H0eLpfLMrlkzJH5rSnG7ar80bhrf8/3OtOWtXcGPae9tEsZ/75xfExHRt7dfrPrqb5HHmcwoc7RYuSk3SlqCa8o5W/CDOyQz8uBartoZ6ZeUCfHQdyIP/ZQzEVsXyMHfDz/ysGr/6kw+E2u9WHZrUxmRIz1nuQY0GgAGyG4N6zPEo+DgPK4Pndct4pT+YvieBV6d6QNLZWzSKglVr2RvhmOpDT3wsQWq3TOeNwXGbJGoaPtPw3+D+2vlrKvt0ilEROTT1EvVY3zANZz62F4E96Hr5qs+3VOm5n855/6xZBXOxJzlAtBoABgACw0AAyDCGgADQKMBYAAsNAAMgIUGgAGw0AAwQFY8Q7xMuu1nVqq+isf4DKr7sg+oPiss+zTB32hli96Hnvn3yKf47GjMJvEWsTrlDOrgYj63GvuolFVKVbYpdO4ZRETUXyWHUWW/4cqhR5bOVX3l27S4tnUbE46nR4QfvFb+3urfcSbkwVlS/qmvlr+z9JevygApyjZ1L+UIa/+gOBUHfy8BZ+3Xssw1z8k5WrhV6lnHY6TnLNeARgPAANkJk2lj38Nzb5K8HY+7WmNitbxZgzdLFHQyX7xoWKJ+Dy7gt3jvFVqUsiOhKCVB/u7og+mHnxRu53zz5d8Qf8ONl3CukA9PfUv1tX2iVLVFolgiWo79C5e9otpPfIQ1TVFQNKPzMgf0lKaqua1FMQf6+Bn0f0lKQu1bKnWmb5zzByIiWvWYFA1MyQjPWa4BjQaAAbDQADBAdkxHh42K5/eIOVMYZFNud7OkWiu8XDYfJkq2tKSUbWFn33GzxWwqzxOTr2OIk+FEtQ2JyICWRy4eITYEiwNi8i1s4I2Etw5J/ebAIonbLv7VvrTk/fm6s+T+cpajt1/CV0Kz+LmM1zZ8dFM5HvmH+Z5zJshDa5h6QLXXd3MZKt/E8XLTlu3JBc3gnOUC0GgAGAALDQADZCev40W8Y5f3hPRFy3jNF2pZcyZ9X+K75EQoFqtIdhXDbhHL3S9MVn17JCiYxq3mHT3fQHqmHRHRlpu56mbwV/Je8jII6+dGFU9pZ3NJxrOrxdSa8Ac5/+qq5wL2Idm8pKZH9xIRUTiFuaifJW69js23lqeWqL5CsRypZC+PVbhVO5tLwUjPWa4BjQaAAbITJuN6MXj1mYmIwrt2E9HR2qn1+tNUu+a+NWkN7Z9Qx+Pt0zwdovJuHTqfz34K/vy26ku1GeJpC6tMVI1z6HDM39A7S6Kl859NT1vYs06RMd9xz6i0PPod13BU95jHZLxUmyFWCWc8jmp5RvR7fB/gKGmrWzxmUkZbZ3DOcgFoNAAMgIUGgAEQYQ2AAaDRADAAFhoABsBCA8AAWGgAGAALDQADYKEBYAAsNAAMYMyp2JcvIe5W0PX8tXwJro6DGxPmdHXFfGSXl2n/sGM+j4sjgfZOR/olnHIJNU9E5PPcrIYzZ67bl+eupmNXjtX+cQxzdgxFSrIJNBoABjhao7nOrAe+dKbq8sr9JCpTHI3zgqtbxYlcnHe3qj5nvkTmts3lN6W/VwYt2s9vKydfBuzR6iVbQ3xt1Y+kLJDPz8K1XiulhDx5yprjO952To5V4rUPcHhLVEuac+QzEvk8WB77R3rPI97fr39/4W/Xx79gpHDnrOV2bc7yPOES3BNH5oaVnJ4v+po4W/cvkefauoifW6BHbi5+j521w9qcdTfImPYg90/8zloR17Vsdn5ZnKmjFgtavk0TSJO9s8nt0uSe8t3YclattyxS7cGxSZ5Bgjkrd326yx9eG/+C4wAaDQADYKEBYIC4myGhEmlHXeut/j7JXxjpFXXtmZmDWpRtNC/OsFomXc8ECLbLj9uCZ9jEsmuqVV/3Jxu1+xP8BXS0SeGZdIW/l0jfaETshy5X3qgmos+VTbcyQkUyqPc86p+VTZPohs1ERDR0nmTp3T9fkuqEC828w3zu5sRQmcTceXW8p9++WfU5XT2q7ZmZg9Xy/CP5/EASPmZvzlrlKZU9yma8FwNIRNT99xKvlsis5vFkHF+ELxzz2Gtyr7bx0eXK6/1didD/vw2V8/OY+pj8HLDW8P/DPZ+Yp/pal8g9Q8VpbsocA9BoABggrkYLSNp6efOHtMQbWtbcgLuhEQnI68s3FLsR4RTK28J784SCss4L3R/1vkAg5joioshQnNej+zYPFcd+pOfQIEfe9t6Y0RQvr4C2UeP9bdagPAPHfQb+Pu1ZaM/N328mY4anrfM65VlG3Dd/dCjBnLlyRvLkHmuQ50zXGWFtfjwNEdLf+l4keF4g5joiIqs/sUob0q7zNJovoM2ZdozgaeujNJovdmz9+Xt/mz0g/y9G3WcQ6JXvDnTId+pzPtJAowFgACw0AAyQtmdI7wVzVNunVS/w0rslOmfzsPtjTZe+alnn/cvOfP8tR5kC9lCcL3DNpoD8zqeoO2TrDXNjrycieyBW3mg0dmz9c6/dMUd2fAJTOGnOQIUd9x7jxPnuQ1dJohzLkQvCXi6dFPL6+2JNrL7xclPznQti7gl0SNseiDXvvGed1yFz75nxO//ltJjriYj8Xo6hXm28FHPm/W37F0hCpfzpC4mIqL9K0y/aOJmcP2g0AAyAhQaAAeIm5zleJ91ID2cDTpV/8ETGy41IpO1gpnKo1c7rPHcu3UUokxyTk64mb8R1rE5V/fRExh4zRv6h7YQmRZ8zN79npLs70dXHDDQaAAaIuxmCsJHMvNUyyckWNpIJnCNHUl+UJaDRADAAFhoABsBCA8AAWGgAGAALDQADYKEBYAAsNAAM8P8ri5lAP35AmQAAAABJRU5ErkJggg==\" y=\"-9.144933\"/>\n   </g>\n   <g id=\"matplotlib.axis_1\">\n    <g id=\"xtick_1\">\n     <g id=\"line2d_1\">\n      <defs>\n       <path d=\"M 0 0 \nL 0 3.5 \n\" id=\"m842942fd5c\" style=\"stroke:#000000;stroke-width:0.8;\"/>\n      </defs>\n      <g>\n       <use style=\"stroke:#000000;stroke-width:0.8;\" x=\"28.219286\" xlink:href=\"#m842942fd5c\" y=\"227.144933\"/>\n      </g>\n     </g>\n     <g id=\"text_1\">\n      <!-- 0 -->\n      <defs>\n       <path d=\"M 31.78125 66.40625 \nQ 24.171875 66.40625 20.328125 58.90625 \nQ 16.5 51.421875 16.5 36.375 \nQ 16.5 21.390625 20.328125 13.890625 \nQ 24.171875 6.390625 31.78125 6.390625 \nQ 39.453125 6.390625 43.28125 13.890625 \nQ 47.125 21.390625 47.125 36.375 \nQ 47.125 51.421875 43.28125 58.90625 \nQ 39.453125 66.40625 31.78125 66.40625 \nz\nM 31.78125 74.21875 \nQ 44.046875 74.21875 50.515625 64.515625 \nQ 56.984375 54.828125 56.984375 36.375 \nQ 56.984375 17.96875 50.515625 8.265625 \nQ 44.046875 -1.421875 31.78125 -1.421875 \nQ 19.53125 -1.421875 13.0625 8.265625 \nQ 6.59375 17.96875 6.59375 36.375 \nQ 6.59375 54.828125 13.0625 64.515625 \nQ 19.53125 74.21875 31.78125 74.21875 \nz\n\" id=\"DejaVuSans-48\"/>\n      </defs>\n      <g transform=\"translate(25.038036 241.743371)scale(0.1 -0.1)\">\n       <use xlink:href=\"#DejaVuSans-48\"/>\n      </g>\n     </g>\n    </g>\n    <g id=\"xtick_2\">\n     <g id=\"line2d_2\">\n      <g>\n       <use style=\"stroke:#000000;stroke-width:0.8;\" x=\"79.990714\" xlink:href=\"#m842942fd5c\" y=\"227.144933\"/>\n      </g>\n     </g>\n     <g id=\"text_2\">\n      <!-- 20 -->\n      <defs>\n       <path d=\"M 19.1875 8.296875 \nL 53.609375 8.296875 \nL 53.609375 0 \nL 7.328125 0 \nL 7.328125 8.296875 \nQ 12.9375 14.109375 22.625 23.890625 \nQ 32.328125 33.6875 34.8125 36.53125 \nQ 39.546875 41.84375 41.421875 45.53125 \nQ 43.3125 49.21875 43.3125 52.78125 \nQ 43.3125 58.59375 39.234375 62.25 \nQ 35.15625 65.921875 28.609375 65.921875 \nQ 23.96875 65.921875 18.8125 64.3125 \nQ 13.671875 62.703125 7.8125 59.421875 \nL 7.8125 69.390625 \nQ 13.765625 71.78125 18.9375 73 \nQ 24.125 74.21875 28.421875 74.21875 \nQ 39.75 74.21875 46.484375 68.546875 \nQ 53.21875 62.890625 53.21875 53.421875 \nQ 53.21875 48.921875 51.53125 44.890625 \nQ 49.859375 40.875 45.40625 35.40625 \nQ 44.1875 33.984375 37.640625 27.21875 \nQ 31.109375 20.453125 19.1875 8.296875 \nz\n\" id=\"DejaVuSans-50\"/>\n      </defs>\n      <g transform=\"translate(73.628214 241.743371)scale(0.1 -0.1)\">\n       <use xlink:href=\"#DejaVuSans-50\"/>\n       <use x=\"63.623047\" xlink:href=\"#DejaVuSans-48\"/>\n      </g>\n     </g>\n    </g>\n    <g id=\"xtick_3\">\n     <g id=\"line2d_3\">\n      <g>\n       <use style=\"stroke:#000000;stroke-width:0.8;\" x=\"131.762143\" xlink:href=\"#m842942fd5c\" y=\"227.144933\"/>\n      </g>\n     </g>\n     <g id=\"text_3\">\n      <!-- 40 -->\n      <defs>\n       <path d=\"M 37.796875 64.3125 \nL 12.890625 25.390625 \nL 37.796875 25.390625 \nz\nM 35.203125 72.90625 \nL 47.609375 72.90625 \nL 47.609375 25.390625 \nL 58.015625 25.390625 \nL 58.015625 17.1875 \nL 47.609375 17.1875 \nL 47.609375 0 \nL 37.796875 0 \nL 37.796875 17.1875 \nL 4.890625 17.1875 \nL 4.890625 26.703125 \nz\n\" id=\"DejaVuSans-52\"/>\n      </defs>\n      <g transform=\"translate(125.399643 241.743371)scale(0.1 -0.1)\">\n       <use xlink:href=\"#DejaVuSans-52\"/>\n       <use x=\"63.623047\" xlink:href=\"#DejaVuSans-48\"/>\n      </g>\n     </g>\n    </g>\n    <g id=\"xtick_4\">\n     <g id=\"line2d_4\">\n      <g>\n       <use style=\"stroke:#000000;stroke-width:0.8;\" x=\"183.533571\" xlink:href=\"#m842942fd5c\" y=\"227.144933\"/>\n      </g>\n     </g>\n     <g id=\"text_4\">\n      <!-- 60 -->\n      <defs>\n       <path d=\"M 33.015625 40.375 \nQ 26.375 40.375 22.484375 35.828125 \nQ 18.609375 31.296875 18.609375 23.390625 \nQ 18.609375 15.53125 22.484375 10.953125 \nQ 26.375 6.390625 33.015625 6.390625 \nQ 39.65625 6.390625 43.53125 10.953125 \nQ 47.40625 15.53125 47.40625 23.390625 \nQ 47.40625 31.296875 43.53125 35.828125 \nQ 39.65625 40.375 33.015625 40.375 \nz\nM 52.59375 71.296875 \nL 52.59375 62.3125 \nQ 48.875 64.0625 45.09375 64.984375 \nQ 41.3125 65.921875 37.59375 65.921875 \nQ 27.828125 65.921875 22.671875 59.328125 \nQ 17.53125 52.734375 16.796875 39.40625 \nQ 19.671875 43.65625 24.015625 45.921875 \nQ 28.375 48.1875 33.59375 48.1875 \nQ 44.578125 48.1875 50.953125 41.515625 \nQ 57.328125 34.859375 57.328125 23.390625 \nQ 57.328125 12.15625 50.6875 5.359375 \nQ 44.046875 -1.421875 33.015625 -1.421875 \nQ 20.359375 -1.421875 13.671875 8.265625 \nQ 6.984375 17.96875 6.984375 36.375 \nQ 6.984375 53.65625 15.1875 63.9375 \nQ 23.390625 74.21875 37.203125 74.21875 \nQ 40.921875 74.21875 44.703125 73.484375 \nQ 48.484375 72.75 52.59375 71.296875 \nz\n\" id=\"DejaVuSans-54\"/>\n      </defs>\n      <g transform=\"translate(177.171071 241.743371)scale(0.1 -0.1)\">\n       <use xlink:href=\"#DejaVuSans-54\"/>\n       <use x=\"63.623047\" xlink:href=\"#DejaVuSans-48\"/>\n      </g>\n     </g>\n    </g>\n    <g id=\"xtick_5\">\n     <g id=\"line2d_5\">\n      <g>\n       <use style=\"stroke:#000000;stroke-width:0.8;\" x=\"235.305\" xlink:href=\"#m842942fd5c\" y=\"227.144933\"/>\n      </g>\n     </g>\n     <g id=\"text_5\">\n      <!-- 80 -->\n      <defs>\n       <path d=\"M 31.78125 34.625 \nQ 24.75 34.625 20.71875 30.859375 \nQ 16.703125 27.09375 16.703125 20.515625 \nQ 16.703125 13.921875 20.71875 10.15625 \nQ 24.75 6.390625 31.78125 6.390625 \nQ 38.8125 6.390625 42.859375 10.171875 \nQ 46.921875 13.96875 46.921875 20.515625 \nQ 46.921875 27.09375 42.890625 30.859375 \nQ 38.875 34.625 31.78125 34.625 \nz\nM 21.921875 38.8125 \nQ 15.578125 40.375 12.03125 44.71875 \nQ 8.5 49.078125 8.5 55.328125 \nQ 8.5 64.0625 14.71875 69.140625 \nQ 20.953125 74.21875 31.78125 74.21875 \nQ 42.671875 74.21875 48.875 69.140625 \nQ 55.078125 64.0625 55.078125 55.328125 \nQ 55.078125 49.078125 51.53125 44.71875 \nQ 48 40.375 41.703125 38.8125 \nQ 48.828125 37.15625 52.796875 32.3125 \nQ 56.78125 27.484375 56.78125 20.515625 \nQ 56.78125 9.90625 50.3125 4.234375 \nQ 43.84375 -1.421875 31.78125 -1.421875 \nQ 19.734375 -1.421875 13.25 4.234375 \nQ 6.78125 9.90625 6.78125 20.515625 \nQ 6.78125 27.484375 10.78125 32.3125 \nQ 14.796875 37.15625 21.921875 38.8125 \nz\nM 18.3125 54.390625 \nQ 18.3125 48.734375 21.84375 45.5625 \nQ 25.390625 42.390625 31.78125 42.390625 \nQ 38.140625 42.390625 41.71875 45.5625 \nQ 45.3125 48.734375 45.3125 54.390625 \nQ 45.3125 60.0625 41.71875 63.234375 \nQ 38.140625 66.40625 31.78125 66.40625 \nQ 25.390625 66.40625 21.84375 63.234375 \nQ 18.3125 60.0625 18.3125 54.390625 \nz\n\" id=\"DejaVuSans-56\"/>\n      </defs>\n      <g transform=\"translate(228.9425 241.743371)scale(0.1 -0.1)\">\n       <use xlink:href=\"#DejaVuSans-56\"/>\n       <use x=\"63.623047\" xlink:href=\"#DejaVuSans-48\"/>\n      </g>\n     </g>\n    </g>\n   </g>\n   <g id=\"matplotlib.axis_2\">\n    <g id=\"ytick_1\">\n     <g id=\"line2d_6\">\n      <defs>\n       <path d=\"M 0 0 \nL -3.5 0 \n\" id=\"mccebad8396\" style=\"stroke:#000000;stroke-width:0.8;\"/>\n      </defs>\n      <g>\n       <use style=\"stroke:#000000;stroke-width:0.8;\" x=\"26.925\" xlink:href=\"#mccebad8396\" y=\"10.999219\"/>\n      </g>\n     </g>\n     <g id=\"text_6\">\n      <!-- 0 -->\n      <g transform=\"translate(13.5625 14.798437)scale(0.1 -0.1)\">\n       <use xlink:href=\"#DejaVuSans-48\"/>\n      </g>\n     </g>\n    </g>\n    <g id=\"ytick_2\">\n     <g id=\"line2d_7\">\n      <g>\n       <use style=\"stroke:#000000;stroke-width:0.8;\" x=\"26.925\" xlink:href=\"#mccebad8396\" y=\"36.884933\"/>\n      </g>\n     </g>\n     <g id=\"text_7\">\n      <!-- 10 -->\n      <defs>\n       <path d=\"M 12.40625 8.296875 \nL 28.515625 8.296875 \nL 28.515625 63.921875 \nL 10.984375 60.40625 \nL 10.984375 69.390625 \nL 28.421875 72.90625 \nL 38.28125 72.90625 \nL 38.28125 8.296875 \nL 54.390625 8.296875 \nL 54.390625 0 \nL 12.40625 0 \nz\n\" id=\"DejaVuSans-49\"/>\n      </defs>\n      <g transform=\"translate(7.2 40.684152)scale(0.1 -0.1)\">\n       <use xlink:href=\"#DejaVuSans-49\"/>\n       <use x=\"63.623047\" xlink:href=\"#DejaVuSans-48\"/>\n      </g>\n     </g>\n    </g>\n    <g id=\"ytick_3\">\n     <g id=\"line2d_8\">\n      <g>\n       <use style=\"stroke:#000000;stroke-width:0.8;\" x=\"26.925\" xlink:href=\"#mccebad8396\" y=\"62.770647\"/>\n      </g>\n     </g>\n     <g id=\"text_8\">\n      <!-- 20 -->\n      <g transform=\"translate(7.2 66.569866)scale(0.1 -0.1)\">\n       <use xlink:href=\"#DejaVuSans-50\"/>\n       <use x=\"63.623047\" xlink:href=\"#DejaVuSans-48\"/>\n      </g>\n     </g>\n    </g>\n    <g id=\"ytick_4\">\n     <g id=\"line2d_9\">\n      <g>\n       <use style=\"stroke:#000000;stroke-width:0.8;\" x=\"26.925\" xlink:href=\"#mccebad8396\" y=\"88.656362\"/>\n      </g>\n     </g>\n     <g id=\"text_9\">\n      <!-- 30 -->\n      <defs>\n       <path d=\"M 40.578125 39.3125 \nQ 47.65625 37.796875 51.625 33 \nQ 55.609375 28.21875 55.609375 21.1875 \nQ 55.609375 10.40625 48.1875 4.484375 \nQ 40.765625 -1.421875 27.09375 -1.421875 \nQ 22.515625 -1.421875 17.65625 -0.515625 \nQ 12.796875 0.390625 7.625 2.203125 \nL 7.625 11.71875 \nQ 11.71875 9.328125 16.59375 8.109375 \nQ 21.484375 6.890625 26.8125 6.890625 \nQ 36.078125 6.890625 40.9375 10.546875 \nQ 45.796875 14.203125 45.796875 21.1875 \nQ 45.796875 27.640625 41.28125 31.265625 \nQ 36.765625 34.90625 28.71875 34.90625 \nL 20.21875 34.90625 \nL 20.21875 43.015625 \nL 29.109375 43.015625 \nQ 36.375 43.015625 40.234375 45.921875 \nQ 44.09375 48.828125 44.09375 54.296875 \nQ 44.09375 59.90625 40.109375 62.90625 \nQ 36.140625 65.921875 28.71875 65.921875 \nQ 24.65625 65.921875 20.015625 65.03125 \nQ 15.375 64.15625 9.8125 62.3125 \nL 9.8125 71.09375 \nQ 15.4375 72.65625 20.34375 73.4375 \nQ 25.25 74.21875 29.59375 74.21875 \nQ 40.828125 74.21875 47.359375 69.109375 \nQ 53.90625 64.015625 53.90625 55.328125 \nQ 53.90625 49.265625 50.4375 45.09375 \nQ 46.96875 40.921875 40.578125 39.3125 \nz\n\" id=\"DejaVuSans-51\"/>\n      </defs>\n      <g transform=\"translate(7.2 92.45558)scale(0.1 -0.1)\">\n       <use xlink:href=\"#DejaVuSans-51\"/>\n       <use x=\"63.623047\" xlink:href=\"#DejaVuSans-48\"/>\n      </g>\n     </g>\n    </g>\n    <g id=\"ytick_5\">\n     <g id=\"line2d_10\">\n      <g>\n       <use style=\"stroke:#000000;stroke-width:0.8;\" x=\"26.925\" xlink:href=\"#mccebad8396\" y=\"114.542076\"/>\n      </g>\n     </g>\n     <g id=\"text_10\">\n      <!-- 40 -->\n      <g transform=\"translate(7.2 118.341295)scale(0.1 -0.1)\">\n       <use xlink:href=\"#DejaVuSans-52\"/>\n       <use x=\"63.623047\" xlink:href=\"#DejaVuSans-48\"/>\n      </g>\n     </g>\n    </g>\n    <g id=\"ytick_6\">\n     <g id=\"line2d_11\">\n      <g>\n       <use style=\"stroke:#000000;stroke-width:0.8;\" x=\"26.925\" xlink:href=\"#mccebad8396\" y=\"140.42779\"/>\n      </g>\n     </g>\n     <g id=\"text_11\">\n      <!-- 50 -->\n      <defs>\n       <path d=\"M 10.796875 72.90625 \nL 49.515625 72.90625 \nL 49.515625 64.59375 \nL 19.828125 64.59375 \nL 19.828125 46.734375 \nQ 21.96875 47.46875 24.109375 47.828125 \nQ 26.265625 48.1875 28.421875 48.1875 \nQ 40.625 48.1875 47.75 41.5 \nQ 54.890625 34.8125 54.890625 23.390625 \nQ 54.890625 11.625 47.5625 5.09375 \nQ 40.234375 -1.421875 26.90625 -1.421875 \nQ 22.3125 -1.421875 17.546875 -0.640625 \nQ 12.796875 0.140625 7.71875 1.703125 \nL 7.71875 11.625 \nQ 12.109375 9.234375 16.796875 8.0625 \nQ 21.484375 6.890625 26.703125 6.890625 \nQ 35.15625 6.890625 40.078125 11.328125 \nQ 45.015625 15.765625 45.015625 23.390625 \nQ 45.015625 31 40.078125 35.4375 \nQ 35.15625 39.890625 26.703125 39.890625 \nQ 22.75 39.890625 18.8125 39.015625 \nQ 14.890625 38.140625 10.796875 36.28125 \nz\n\" id=\"DejaVuSans-53\"/>\n      </defs>\n      <g transform=\"translate(7.2 144.227009)scale(0.1 -0.1)\">\n       <use xlink:href=\"#DejaVuSans-53\"/>\n       <use x=\"63.623047\" xlink:href=\"#DejaVuSans-48\"/>\n      </g>\n     </g>\n    </g>\n    <g id=\"ytick_7\">\n     <g id=\"line2d_12\">\n      <g>\n       <use style=\"stroke:#000000;stroke-width:0.8;\" x=\"26.925\" xlink:href=\"#mccebad8396\" y=\"166.313504\"/>\n      </g>\n     </g>\n     <g id=\"text_12\">\n      <!-- 60 -->\n      <g transform=\"translate(7.2 170.112723)scale(0.1 -0.1)\">\n       <use xlink:href=\"#DejaVuSans-54\"/>\n       <use x=\"63.623047\" xlink:href=\"#DejaVuSans-48\"/>\n      </g>\n     </g>\n    </g>\n    <g id=\"ytick_8\">\n     <g id=\"line2d_13\">\n      <g>\n       <use style=\"stroke:#000000;stroke-width:0.8;\" x=\"26.925\" xlink:href=\"#mccebad8396\" y=\"192.199219\"/>\n      </g>\n     </g>\n     <g id=\"text_13\">\n      <!-- 70 -->\n      <defs>\n       <path d=\"M 8.203125 72.90625 \nL 55.078125 72.90625 \nL 55.078125 68.703125 \nL 28.609375 0 \nL 18.3125 0 \nL 43.21875 64.59375 \nL 8.203125 64.59375 \nz\n\" id=\"DejaVuSans-55\"/>\n      </defs>\n      <g transform=\"translate(7.2 195.998437)scale(0.1 -0.1)\">\n       <use xlink:href=\"#DejaVuSans-55\"/>\n       <use x=\"63.623047\" xlink:href=\"#DejaVuSans-48\"/>\n      </g>\n     </g>\n    </g>\n    <g id=\"ytick_9\">\n     <g id=\"line2d_14\">\n      <g>\n       <use style=\"stroke:#000000;stroke-width:0.8;\" x=\"26.925\" xlink:href=\"#mccebad8396\" y=\"218.084933\"/>\n      </g>\n     </g>\n     <g id=\"text_14\">\n      <!-- 80 -->\n      <g transform=\"translate(7.2 221.884152)scale(0.1 -0.1)\">\n       <use xlink:href=\"#DejaVuSans-56\"/>\n       <use x=\"63.623047\" xlink:href=\"#DejaVuSans-48\"/>\n      </g>\n     </g>\n    </g>\n   </g>\n   <g id=\"patch_3\">\n    <path d=\"M 26.925 227.144933 \nL 26.925 9.704933 \n\" style=\"fill:none;stroke:#000000;stroke-linecap:square;stroke-linejoin:miter;stroke-width:0.8;\"/>\n   </g>\n   <g id=\"patch_4\">\n    <path d=\"M 244.365 227.144933 \nL 244.365 9.704933 \n\" style=\"fill:none;stroke:#000000;stroke-linecap:square;stroke-linejoin:miter;stroke-width:0.8;\"/>\n   </g>\n   <g id=\"patch_5\">\n    <path d=\"M 26.925 227.144933 \nL 244.365 227.144933 \n\" style=\"fill:none;stroke:#000000;stroke-linecap:square;stroke-linejoin:miter;stroke-width:0.8;\"/>\n   </g>\n   <g id=\"patch_6\">\n    <path d=\"M 26.925 9.704933 \nL 244.365 9.704933 \n\" style=\"fill:none;stroke:#000000;stroke-linecap:square;stroke-linejoin:miter;stroke-width:0.8;\"/>\n   </g>\n  </g>\n </g>\n <defs>\n  <clipPath id=\"p1120afadc8\">\n   <rect height=\"217.44\" width=\"217.44\" x=\"26.925\" y=\"9.704933\"/>\n  </clipPath>\n </defs>\n</svg>\n",
      "image/png": "[encoded data removed]"
     },
     "metadata": {
      "needs_background": "light"
     }
    }
   ],
   "source": [
    "env = gym.make('SpaceInvaders-v0')\n",
    "obs = env.reset()\n",
    "device = 'cpu'\n",
    "num_frames = 4\n",
    "total_reward = 0\n",
    "state = torch.zeros((num_frames, 84, 84))\n",
    "obs_buffer = np.zeros((2, ) + env.observation_space.shape, dtype=np.uint8)\n",
    "action = env.action_space.sample()\n",
    "obs, reward, done, info = env.step(action)\n",
    "obs_buffer[0] = obs\n",
    "for i in range(num_frames):\n",
    "    obs, reward, done, info = env.step(action)\n",
    "    obs_buffer[1] = obs\n",
    "    total_reward += reward\n",
    "    max_frame = transforms.resize(obs_buffer.max(axis=0), (84, 84))\n",
    "    state[i] = torch.from_numpy(color.rgb2gray(max_frame)).float().to(device) #(84, 84)\n",
    "    if done:\n",
    "        env.reset()\n",
    "        break\n",
    "    obs_buffer[0] = obs\n",
    "print(state.unsqueeze(0).dtype, total_reward, done)\n",
    "plt.imshow(state.permute(1,2,0)[:,:,0])"
   ]
  },
  {
   "cell_type": "code",
   "execution_count": 13,
   "metadata": {
    "tags": []
   },
   "outputs": [
    {
     "output_type": "execute_result",
     "data": {
      "text/plain": "<matplotlib.image.AxesImage at 0x14341d2b0>"
     },
     "metadata": {},
     "execution_count": 13
    },
    {
     "output_type": "display_data",
     "data": {
      "text/plain": "<Figure size 432x288 with 1 Axes>",
      "image/svg+xml": "<?xml version=\"1.0\" encoding=\"utf-8\" standalone=\"no\"?>\n<!DOCTYPE svg PUBLIC \"-//W3C//DTD SVG 1.1//EN\"\n  \"http://www.w3.org/Graphics/SVG/1.1/DTD/svg11.dtd\">\n<!-- Created with matplotlib (https://matplotlib.org/) -->\n<svg height=\"251.023058pt\" version=\"1.1\" viewBox=\"0 0 251.565 251.023058\" width=\"251.565pt\" xmlns=\"http://www.w3.org/2000/svg\" xmlns:xlink=\"http://www.w3.org/1999/xlink\">\n <defs>\n  <style type=\"text/css\">\n*{stroke-linecap:butt;stroke-linejoin:round;white-space:pre;}\n  </style>\n </defs>\n <g id=\"figure_1\">\n  <g id=\"patch_1\">\n   <path d=\"M 0 251.023058 \nL 251.565 251.023058 \nL 251.565 0 \nL 0 0 \nz\n\" style=\"fill:none;\"/>\n  </g>\n  <g id=\"axes_1\">\n   <g id=\"patch_2\">\n    <path d=\"M 26.925 227.144933 \nL 244.365 227.144933 \nL 244.365 9.704933 \nL 26.925 9.704933 \nz\n\" style=\"fill:#ffffff;\"/>\n   </g>\n   <g clip-path=\"url(#pcbe9207b55)\">\n    <image height=\"218\" id=\"image1167b519f6\" transform=\"scale(1 -1)translate(0 -218)\" width=\"218\" x=\"26.925\" xlink:href=\"data:image/png;base64,\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\" y=\"-9.144933\"/>\n   </g>\n   <g id=\"matplotlib.axis_1\">\n    <g id=\"xtick_1\">\n     <g id=\"line2d_1\">\n      <defs>\n       <path d=\"M 0 0 \nL 0 3.5 \n\" id=\"mb3db11aaac\" style=\"stroke:#000000;stroke-width:0.8;\"/>\n      </defs>\n      <g>\n       <use style=\"stroke:#000000;stroke-width:0.8;\" x=\"28.219286\" xlink:href=\"#mb3db11aaac\" y=\"227.144933\"/>\n      </g>\n     </g>\n     <g id=\"text_1\">\n      <!-- 0 -->\n      <defs>\n       <path d=\"M 31.78125 66.40625 \nQ 24.171875 66.40625 20.328125 58.90625 \nQ 16.5 51.421875 16.5 36.375 \nQ 16.5 21.390625 20.328125 13.890625 \nQ 24.171875 6.390625 31.78125 6.390625 \nQ 39.453125 6.390625 43.28125 13.890625 \nQ 47.125 21.390625 47.125 36.375 \nQ 47.125 51.421875 43.28125 58.90625 \nQ 39.453125 66.40625 31.78125 66.40625 \nz\nM 31.78125 74.21875 \nQ 44.046875 74.21875 50.515625 64.515625 \nQ 56.984375 54.828125 56.984375 36.375 \nQ 56.984375 17.96875 50.515625 8.265625 \nQ 44.046875 -1.421875 31.78125 -1.421875 \nQ 19.53125 -1.421875 13.0625 8.265625 \nQ 6.59375 17.96875 6.59375 36.375 \nQ 6.59375 54.828125 13.0625 64.515625 \nQ 19.53125 74.21875 31.78125 74.21875 \nz\n\" id=\"DejaVuSans-48\"/>\n      </defs>\n      <g transform=\"translate(25.038036 241.743371)scale(0.1 -0.1)\">\n       <use xlink:href=\"#DejaVuSans-48\"/>\n      </g>\n     </g>\n    </g>\n    <g id=\"xtick_2\">\n     <g id=\"line2d_2\">\n      <g>\n       <use style=\"stroke:#000000;stroke-width:0.8;\" x=\"79.990714\" xlink:href=\"#mb3db11aaac\" y=\"227.144933\"/>\n      </g>\n     </g>\n     <g id=\"text_2\">\n      <!-- 20 -->\n      <defs>\n       <path d=\"M 19.1875 8.296875 \nL 53.609375 8.296875 \nL 53.609375 0 \nL 7.328125 0 \nL 7.328125 8.296875 \nQ 12.9375 14.109375 22.625 23.890625 \nQ 32.328125 33.6875 34.8125 36.53125 \nQ 39.546875 41.84375 41.421875 45.53125 \nQ 43.3125 49.21875 43.3125 52.78125 \nQ 43.3125 58.59375 39.234375 62.25 \nQ 35.15625 65.921875 28.609375 65.921875 \nQ 23.96875 65.921875 18.8125 64.3125 \nQ 13.671875 62.703125 7.8125 59.421875 \nL 7.8125 69.390625 \nQ 13.765625 71.78125 18.9375 73 \nQ 24.125 74.21875 28.421875 74.21875 \nQ 39.75 74.21875 46.484375 68.546875 \nQ 53.21875 62.890625 53.21875 53.421875 \nQ 53.21875 48.921875 51.53125 44.890625 \nQ 49.859375 40.875 45.40625 35.40625 \nQ 44.1875 33.984375 37.640625 27.21875 \nQ 31.109375 20.453125 19.1875 8.296875 \nz\n\" id=\"DejaVuSans-50\"/>\n      </defs>\n      <g transform=\"translate(73.628214 241.743371)scale(0.1 -0.1)\">\n       <use xlink:href=\"#DejaVuSans-50\"/>\n       <use x=\"63.623047\" xlink:href=\"#DejaVuSans-48\"/>\n      </g>\n     </g>\n    </g>\n    <g id=\"xtick_3\">\n     <g id=\"line2d_3\">\n      <g>\n       <use style=\"stroke:#000000;stroke-width:0.8;\" x=\"131.762143\" xlink:href=\"#mb3db11aaac\" y=\"227.144933\"/>\n      </g>\n     </g>\n     <g id=\"text_3\">\n      <!-- 40 -->\n      <defs>\n       <path d=\"M 37.796875 64.3125 \nL 12.890625 25.390625 \nL 37.796875 25.390625 \nz\nM 35.203125 72.90625 \nL 47.609375 72.90625 \nL 47.609375 25.390625 \nL 58.015625 25.390625 \nL 58.015625 17.1875 \nL 47.609375 17.1875 \nL 47.609375 0 \nL 37.796875 0 \nL 37.796875 17.1875 \nL 4.890625 17.1875 \nL 4.890625 26.703125 \nz\n\" id=\"DejaVuSans-52\"/>\n      </defs>\n      <g transform=\"translate(125.399643 241.743371)scale(0.1 -0.1)\">\n       <use xlink:href=\"#DejaVuSans-52\"/>\n       <use x=\"63.623047\" xlink:href=\"#DejaVuSans-48\"/>\n      </g>\n     </g>\n    </g>\n    <g id=\"xtick_4\">\n     <g id=\"line2d_4\">\n      <g>\n       <use style=\"stroke:#000000;stroke-width:0.8;\" x=\"183.533571\" xlink:href=\"#mb3db11aaac\" y=\"227.144933\"/>\n      </g>\n     </g>\n     <g id=\"text_4\">\n      <!-- 60 -->\n      <defs>\n       <path d=\"M 33.015625 40.375 \nQ 26.375 40.375 22.484375 35.828125 \nQ 18.609375 31.296875 18.609375 23.390625 \nQ 18.609375 15.53125 22.484375 10.953125 \nQ 26.375 6.390625 33.015625 6.390625 \nQ 39.65625 6.390625 43.53125 10.953125 \nQ 47.40625 15.53125 47.40625 23.390625 \nQ 47.40625 31.296875 43.53125 35.828125 \nQ 39.65625 40.375 33.015625 40.375 \nz\nM 52.59375 71.296875 \nL 52.59375 62.3125 \nQ 48.875 64.0625 45.09375 64.984375 \nQ 41.3125 65.921875 37.59375 65.921875 \nQ 27.828125 65.921875 22.671875 59.328125 \nQ 17.53125 52.734375 16.796875 39.40625 \nQ 19.671875 43.65625 24.015625 45.921875 \nQ 28.375 48.1875 33.59375 48.1875 \nQ 44.578125 48.1875 50.953125 41.515625 \nQ 57.328125 34.859375 57.328125 23.390625 \nQ 57.328125 12.15625 50.6875 5.359375 \nQ 44.046875 -1.421875 33.015625 -1.421875 \nQ 20.359375 -1.421875 13.671875 8.265625 \nQ 6.984375 17.96875 6.984375 36.375 \nQ 6.984375 53.65625 15.1875 63.9375 \nQ 23.390625 74.21875 37.203125 74.21875 \nQ 40.921875 74.21875 44.703125 73.484375 \nQ 48.484375 72.75 52.59375 71.296875 \nz\n\" id=\"DejaVuSans-54\"/>\n      </defs>\n      <g transform=\"translate(177.171071 241.743371)scale(0.1 -0.1)\">\n       <use xlink:href=\"#DejaVuSans-54\"/>\n       <use x=\"63.623047\" xlink:href=\"#DejaVuSans-48\"/>\n      </g>\n     </g>\n    </g>\n    <g id=\"xtick_5\">\n     <g id=\"line2d_5\">\n      <g>\n       <use style=\"stroke:#000000;stroke-width:0.8;\" x=\"235.305\" xlink:href=\"#mb3db11aaac\" y=\"227.144933\"/>\n      </g>\n     </g>\n     <g id=\"text_5\">\n      <!-- 80 -->\n      <defs>\n       <path d=\"M 31.78125 34.625 \nQ 24.75 34.625 20.71875 30.859375 \nQ 16.703125 27.09375 16.703125 20.515625 \nQ 16.703125 13.921875 20.71875 10.15625 \nQ 24.75 6.390625 31.78125 6.390625 \nQ 38.8125 6.390625 42.859375 10.171875 \nQ 46.921875 13.96875 46.921875 20.515625 \nQ 46.921875 27.09375 42.890625 30.859375 \nQ 38.875 34.625 31.78125 34.625 \nz\nM 21.921875 38.8125 \nQ 15.578125 40.375 12.03125 44.71875 \nQ 8.5 49.078125 8.5 55.328125 \nQ 8.5 64.0625 14.71875 69.140625 \nQ 20.953125 74.21875 31.78125 74.21875 \nQ 42.671875 74.21875 48.875 69.140625 \nQ 55.078125 64.0625 55.078125 55.328125 \nQ 55.078125 49.078125 51.53125 44.71875 \nQ 48 40.375 41.703125 38.8125 \nQ 48.828125 37.15625 52.796875 32.3125 \nQ 56.78125 27.484375 56.78125 20.515625 \nQ 56.78125 9.90625 50.3125 4.234375 \nQ 43.84375 -1.421875 31.78125 -1.421875 \nQ 19.734375 -1.421875 13.25 4.234375 \nQ 6.78125 9.90625 6.78125 20.515625 \nQ 6.78125 27.484375 10.78125 32.3125 \nQ 14.796875 37.15625 21.921875 38.8125 \nz\nM 18.3125 54.390625 \nQ 18.3125 48.734375 21.84375 45.5625 \nQ 25.390625 42.390625 31.78125 42.390625 \nQ 38.140625 42.390625 41.71875 45.5625 \nQ 45.3125 48.734375 45.3125 54.390625 \nQ 45.3125 60.0625 41.71875 63.234375 \nQ 38.140625 66.40625 31.78125 66.40625 \nQ 25.390625 66.40625 21.84375 63.234375 \nQ 18.3125 60.0625 18.3125 54.390625 \nz\n\" id=\"DejaVuSans-56\"/>\n      </defs>\n      <g transform=\"translate(228.9425 241.743371)scale(0.1 -0.1)\">\n       <use xlink:href=\"#DejaVuSans-56\"/>\n       <use x=\"63.623047\" xlink:href=\"#DejaVuSans-48\"/>\n      </g>\n     </g>\n    </g>\n   </g>\n   <g id=\"matplotlib.axis_2\">\n    <g id=\"ytick_1\">\n     <g id=\"line2d_6\">\n      <defs>\n       <path d=\"M 0 0 \nL -3.5 0 \n\" id=\"m819d393c69\" style=\"stroke:#000000;stroke-width:0.8;\"/>\n      </defs>\n      <g>\n       <use style=\"stroke:#000000;stroke-width:0.8;\" x=\"26.925\" xlink:href=\"#m819d393c69\" y=\"10.999219\"/>\n      </g>\n     </g>\n     <g id=\"text_6\">\n      <!-- 0 -->\n      <g transform=\"translate(13.5625 14.798437)scale(0.1 -0.1)\">\n       <use xlink:href=\"#DejaVuSans-48\"/>\n      </g>\n     </g>\n    </g>\n    <g id=\"ytick_2\">\n     <g id=\"line2d_7\">\n      <g>\n       <use style=\"stroke:#000000;stroke-width:0.8;\" x=\"26.925\" xlink:href=\"#m819d393c69\" y=\"36.884933\"/>\n      </g>\n     </g>\n     <g id=\"text_7\">\n      <!-- 10 -->\n      <defs>\n       <path d=\"M 12.40625 8.296875 \nL 28.515625 8.296875 \nL 28.515625 63.921875 \nL 10.984375 60.40625 \nL 10.984375 69.390625 \nL 28.421875 72.90625 \nL 38.28125 72.90625 \nL 38.28125 8.296875 \nL 54.390625 8.296875 \nL 54.390625 0 \nL 12.40625 0 \nz\n\" id=\"DejaVuSans-49\"/>\n      </defs>\n      <g transform=\"translate(7.2 40.684152)scale(0.1 -0.1)\">\n       <use xlink:href=\"#DejaVuSans-49\"/>\n       <use x=\"63.623047\" xlink:href=\"#DejaVuSans-48\"/>\n      </g>\n     </g>\n    </g>\n    <g id=\"ytick_3\">\n     <g id=\"line2d_8\">\n      <g>\n       <use style=\"stroke:#000000;stroke-width:0.8;\" x=\"26.925\" xlink:href=\"#m819d393c69\" y=\"62.770647\"/>\n      </g>\n     </g>\n     <g id=\"text_8\">\n      <!-- 20 -->\n      <g transform=\"translate(7.2 66.569866)scale(0.1 -0.1)\">\n       <use xlink:href=\"#DejaVuSans-50\"/>\n       <use x=\"63.623047\" xlink:href=\"#DejaVuSans-48\"/>\n      </g>\n     </g>\n    </g>\n    <g id=\"ytick_4\">\n     <g id=\"line2d_9\">\n      <g>\n       <use style=\"stroke:#000000;stroke-width:0.8;\" x=\"26.925\" xlink:href=\"#m819d393c69\" y=\"88.656362\"/>\n      </g>\n     </g>\n     <g id=\"text_9\">\n      <!-- 30 -->\n      <defs>\n       <path d=\"M 40.578125 39.3125 \nQ 47.65625 37.796875 51.625 33 \nQ 55.609375 28.21875 55.609375 21.1875 \nQ 55.609375 10.40625 48.1875 4.484375 \nQ 40.765625 -1.421875 27.09375 -1.421875 \nQ 22.515625 -1.421875 17.65625 -0.515625 \nQ 12.796875 0.390625 7.625 2.203125 \nL 7.625 11.71875 \nQ 11.71875 9.328125 16.59375 8.109375 \nQ 21.484375 6.890625 26.8125 6.890625 \nQ 36.078125 6.890625 40.9375 10.546875 \nQ 45.796875 14.203125 45.796875 21.1875 \nQ 45.796875 27.640625 41.28125 31.265625 \nQ 36.765625 34.90625 28.71875 34.90625 \nL 20.21875 34.90625 \nL 20.21875 43.015625 \nL 29.109375 43.015625 \nQ 36.375 43.015625 40.234375 45.921875 \nQ 44.09375 48.828125 44.09375 54.296875 \nQ 44.09375 59.90625 40.109375 62.90625 \nQ 36.140625 65.921875 28.71875 65.921875 \nQ 24.65625 65.921875 20.015625 65.03125 \nQ 15.375 64.15625 9.8125 62.3125 \nL 9.8125 71.09375 \nQ 15.4375 72.65625 20.34375 73.4375 \nQ 25.25 74.21875 29.59375 74.21875 \nQ 40.828125 74.21875 47.359375 69.109375 \nQ 53.90625 64.015625 53.90625 55.328125 \nQ 53.90625 49.265625 50.4375 45.09375 \nQ 46.96875 40.921875 40.578125 39.3125 \nz\n\" id=\"DejaVuSans-51\"/>\n      </defs>\n      <g transform=\"translate(7.2 92.45558)scale(0.1 -0.1)\">\n       <use xlink:href=\"#DejaVuSans-51\"/>\n       <use x=\"63.623047\" xlink:href=\"#DejaVuSans-48\"/>\n      </g>\n     </g>\n    </g>\n    <g id=\"ytick_5\">\n     <g id=\"line2d_10\">\n      <g>\n       <use style=\"stroke:#000000;stroke-width:0.8;\" x=\"26.925\" xlink:href=\"#m819d393c69\" y=\"114.542076\"/>\n      </g>\n     </g>\n     <g id=\"text_10\">\n      <!-- 40 -->\n      <g transform=\"translate(7.2 118.341295)scale(0.1 -0.1)\">\n       <use xlink:href=\"#DejaVuSans-52\"/>\n       <use x=\"63.623047\" xlink:href=\"#DejaVuSans-48\"/>\n      </g>\n     </g>\n    </g>\n    <g id=\"ytick_6\">\n     <g id=\"line2d_11\">\n      <g>\n       <use style=\"stroke:#000000;stroke-width:0.8;\" x=\"26.925\" xlink:href=\"#m819d393c69\" y=\"140.42779\"/>\n      </g>\n     </g>\n     <g id=\"text_11\">\n      <!-- 50 -->\n      <defs>\n       <path d=\"M 10.796875 72.90625 \nL 49.515625 72.90625 \nL 49.515625 64.59375 \nL 19.828125 64.59375 \nL 19.828125 46.734375 \nQ 21.96875 47.46875 24.109375 47.828125 \nQ 26.265625 48.1875 28.421875 48.1875 \nQ 40.625 48.1875 47.75 41.5 \nQ 54.890625 34.8125 54.890625 23.390625 \nQ 54.890625 11.625 47.5625 5.09375 \nQ 40.234375 -1.421875 26.90625 -1.421875 \nQ 22.3125 -1.421875 17.546875 -0.640625 \nQ 12.796875 0.140625 7.71875 1.703125 \nL 7.71875 11.625 \nQ 12.109375 9.234375 16.796875 8.0625 \nQ 21.484375 6.890625 26.703125 6.890625 \nQ 35.15625 6.890625 40.078125 11.328125 \nQ 45.015625 15.765625 45.015625 23.390625 \nQ 45.015625 31 40.078125 35.4375 \nQ 35.15625 39.890625 26.703125 39.890625 \nQ 22.75 39.890625 18.8125 39.015625 \nQ 14.890625 38.140625 10.796875 36.28125 \nz\n\" id=\"DejaVuSans-53\"/>\n      </defs>\n      <g transform=\"translate(7.2 144.227009)scale(0.1 -0.1)\">\n       <use xlink:href=\"#DejaVuSans-53\"/>\n       <use x=\"63.623047\" xlink:href=\"#DejaVuSans-48\"/>\n      </g>\n     </g>\n    </g>\n    <g id=\"ytick_7\">\n     <g id=\"line2d_12\">\n      <g>\n       <use style=\"stroke:#000000;stroke-width:0.8;\" x=\"26.925\" xlink:href=\"#m819d393c69\" y=\"166.313504\"/>\n      </g>\n     </g>\n     <g id=\"text_12\">\n      <!-- 60 -->\n      <g transform=\"translate(7.2 170.112723)scale(0.1 -0.1)\">\n       <use xlink:href=\"#DejaVuSans-54\"/>\n       <use x=\"63.623047\" xlink:href=\"#DejaVuSans-48\"/>\n      </g>\n     </g>\n    </g>\n    <g id=\"ytick_8\">\n     <g id=\"line2d_13\">\n      <g>\n       <use style=\"stroke:#000000;stroke-width:0.8;\" x=\"26.925\" xlink:href=\"#m819d393c69\" y=\"192.199219\"/>\n      </g>\n     </g>\n     <g id=\"text_13\">\n      <!-- 70 -->\n      <defs>\n       <path d=\"M 8.203125 72.90625 \nL 55.078125 72.90625 \nL 55.078125 68.703125 \nL 28.609375 0 \nL 18.3125 0 \nL 43.21875 64.59375 \nL 8.203125 64.59375 \nz\n\" id=\"DejaVuSans-55\"/>\n      </defs>\n      <g transform=\"translate(7.2 195.998437)scale(0.1 -0.1)\">\n       <use xlink:href=\"#DejaVuSans-55\"/>\n       <use x=\"63.623047\" xlink:href=\"#DejaVuSans-48\"/>\n      </g>\n     </g>\n    </g>\n    <g id=\"ytick_9\">\n     <g id=\"line2d_14\">\n      <g>\n       <use style=\"stroke:#000000;stroke-width:0.8;\" x=\"26.925\" xlink:href=\"#m819d393c69\" y=\"218.084933\"/>\n      </g>\n     </g>\n     <g id=\"text_14\">\n      <!-- 80 -->\n      <g transform=\"translate(7.2 221.884152)scale(0.1 -0.1)\">\n       <use xlink:href=\"#DejaVuSans-56\"/>\n       <use x=\"63.623047\" xlink:href=\"#DejaVuSans-48\"/>\n      </g>\n     </g>\n    </g>\n   </g>\n   <g id=\"patch_3\">\n    <path d=\"M 26.925 227.144933 \nL 26.925 9.704933 \n\" style=\"fill:none;stroke:#000000;stroke-linecap:square;stroke-linejoin:miter;stroke-width:0.8;\"/>\n   </g>\n   <g id=\"patch_4\">\n    <path d=\"M 244.365 227.144933 \nL 244.365 9.704933 \n\" style=\"fill:none;stroke:#000000;stroke-linecap:square;stroke-linejoin:miter;stroke-width:0.8;\"/>\n   </g>\n   <g id=\"patch_5\">\n    <path d=\"M 26.925 227.144933 \nL 244.365 227.144933 \n\" style=\"fill:none;stroke:#000000;stroke-linecap:square;stroke-linejoin:miter;stroke-width:0.8;\"/>\n   </g>\n   <g id=\"patch_6\">\n    <path d=\"M 26.925 9.704933 \nL 244.365 9.704933 \n\" style=\"fill:none;stroke:#000000;stroke-linecap:square;stroke-linejoin:miter;stroke-width:0.8;\"/>\n   </g>\n  </g>\n </g>\n <defs>\n  <clipPath id=\"pcbe9207b55\">\n   <rect height=\"217.44\" width=\"217.44\" x=\"26.925\" y=\"9.704933\"/>\n  </clipPath>\n </defs>\n</svg>\n",
      "image/png": "[encoded data removed]"
     },
     "metadata": {
      "needs_background": "light"
     }
    }
   ],
   "source": [
    "plt.imshow(state.permute(1,2,0)[:,:,:-1])"
   ]
  },
  {
   "cell_type": "markdown",
   "metadata": {},
   "source": [
    "#### CartPole DQN"
   ]
  },
  {
   "cell_type": "code",
   "execution_count": 14,
   "metadata": {
    "tags": []
   },
   "outputs": [
    {
     "output_type": "stream",
     "name": "stdout",
     "text": "torch.Size([1, 4])\n"
    }
   ],
   "source": [
    "env = gym.make('CartPole-v0')\n",
    "obs = env.reset()\n",
    "print(torch.from_numpy(obs).unsqueeze(0).shape)"
   ]
  },
  {
   "cell_type": "code",
   "execution_count": 15,
   "metadata": {
    "tags": []
   },
   "outputs": [
    {
     "output_type": "stream",
     "name": "stdout",
     "text": "torch.Size([10, 2])\n"
    }
   ],
   "source": [
    "class FcDQN(nn.Module):\n",
    "    def __init__(self, input_dim, output_dim):\n",
    "        super(FcDQN, self).__init__()\n",
    "        self.input_dim = input_dim\n",
    "        self.output_dim = output_dim\n",
    "\n",
    "        self.fc_net = nn.Sequential(\n",
    "            nn.Linear(self.input_dim, 256),\n",
    "            nn.ReLU(),\n",
    "            nn.Linear(256, 512),\n",
    "            nn.ReLU(),\n",
    "            nn.Linear(512, self.output_dim)\n",
    "        )\n",
    "\n",
    "    def forward(self, observation):\n",
    "        qvals = self.fc_net(observation.view(-1, self.input_dim))\n",
    "        return qvals\n",
    "model = FcDQN(4,2)\n",
    "x = torch.ones((10,4))\n",
    "y = model(x)\n",
    "print(y.shape)"
   ]
  },
  {
   "cell_type": "code",
   "execution_count": 16,
   "metadata": {},
   "outputs": [],
   "source": [
    "class Actor(nn.Module):\n",
    "    def __init__(self, state_dim, action_dim, action_bounds, offset):\n",
    "        super(Actor, self).__init__()\n",
    "        # actor\n",
    "        self.actor = nn.Sequential(\n",
    "                        nn.Linear(state_dim + state_dim, 64),\n",
    "                        nn.ReLU(),\n",
    "                        nn.Linear(64, 64),\n",
    "                        nn.ReLU(),\n",
    "                        nn.Linear(64, action_dim),\n",
    "                        nn.Tanh()\n",
    "                        )\n",
    "        # max value of actions\n",
    "        self.action_bounds = action_bounds\n",
    "        self.offset = offset\n",
    "        \n",
    "    def forward(self, state, goal):\n",
    "        return (self.actor(torch.cat([state, goal], 1)) * self.action_bounds) + self.offset"
   ]
  },
  {
   "cell_type": "code",
   "execution_count": 21,
   "metadata": {
    "tags": []
   },
   "outputs": [
    {
     "output_type": "stream",
     "name": "stdout",
     "text": "(4,)\n"
    }
   ],
   "source": [
    "actor = Actor(2,2,1,0)\n",
    "a = actor(torch.ones(2,2), torch.ones(2,2)).detach().data.numpy().flatten()\n",
    "print(a.shape)"
   ]
  },
  {
   "cell_type": "code",
   "execution_count": 9,
   "metadata": {},
   "outputs": [],
   "source": [
    "class ConvDQN(nn.Module):\n",
    "    def __init__(self, input_dim, output_dim):\n",
    "        super(ConvDQN, self).__init__()\n",
    "        self.input_dim = input_dim\n",
    "        self.output_dim = output_dim\n",
    "        #if feature_dim = 6272, input_batch / 2 = output_batch\n",
    "        self.feature_dim = 3136\n",
    "\n",
    "        self.conv_net = nn.Sequential(\n",
    "            nn.Conv2d(self.input_dim, 32, kernel_size=8, stride=4),\n",
    "            nn.ReLU(),\n",
    "            nn.Conv2d(32, 64, kernel_size=4, stride=2),\n",
    "            nn.ReLU(),\n",
    "            nn.Conv2d(64, 64, kernel_size=3, stride=1),\n",
    "            nn.ReLU()\n",
    "            )\n",
    "\n",
    "        self.fc_net = nn.Sequential(\n",
    "            nn.Linear(self.feature_dim, 512),\n",
    "            nn.ReLU(),\n",
    "            nn.Linear(512, self.output_dim)\n",
    "            )\n",
    "\n",
    "    def forward(self, observation):\n",
    "        features = self.conv_net(observation)\n",
    "        qvals = self.fc_net(features.view(-1, self.feature_dim))\n",
    "        return qvals"
   ]
  },
  {
   "cell_type": "code",
   "execution_count": 12,
   "metadata": {
    "tags": []
   },
   "outputs": [
    {
     "output_type": "stream",
     "name": "stdout",
     "text": "torch.Size([18, 10])\n"
    }
   ],
   "source": [
    "model = ConvDQN(3, 10)\n",
    "state = torch.ones(18, 3, 84, 84)\n",
    "output = model(state)\n",
    "print(output.shape)"
   ]
  },
  {
   "cell_type": "code",
   "execution_count": null,
   "metadata": {},
   "outputs": [],
   "source": []
  }
 ],
 "metadata": {
  "language_info": {
   "codemirror_mode": {
    "name": "ipython",
    "version": 3
   },
   "file_extension": ".py",
   "mimetype": "text/x-python",
   "name": "python",
   "nbconvert_exporter": "python",
   "pygments_lexer": "ipython3",
   "version": "3.7.3-final"
  },
  "orig_nbformat": 2,
  "kernelspec": {
   "name": "python37364bit7206a3b112f5464b82239684dc08545b",
   "display_name": "Python 3.7.3 64-bit"
  }
 },
 "nbformat": 4,
 "nbformat_minor": 2
}